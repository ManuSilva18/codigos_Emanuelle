{
 "cells": [
  {
   "cell_type": "code",
   "execution_count": null,
   "id": "5564773e",
   "metadata": {},
   "outputs": [],
   "source": []
  },
  {
   "cell_type": "markdown",
   "id": "d3b201c8",
   "metadata": {},
   "source": []
  },
  {
   "cell_type": "code",
   "execution_count": 8,
   "id": "c2930125",
   "metadata": {},
   "outputs": [],
   "source": [
    "import pyautogui as aut\n",
    "# estou importando o pyautogui e apelidando ele de aut \n",
    "aut.hotkey(\"win\",\"r\")\n",
    "#escrever notepad\n",
    "aut.write(\"notepad\", interval=0.2)\n",
    "#espera 1 segundo\n",
    "aut.sleep(1)\n",
    "#aperta o Enter\n",
    "aut.press(\"Enter\")\n",
    "aut.sleep(1)\n",
    "aut.moveTo(225,245)\n",
    "aut.sleep(1)\n",
    "aut.click()\n",
    "aut.sleep(1.5)\n",
    "aut.write(\"a manu ama o professor\", interval= 0.2)"
   ]
  },
  {
   "cell_type": "code",
   "execution_count": 6,
   "id": "247c5500",
   "metadata": {},
   "outputs": [],
   "source": [
    "import pyautogui as aut"
   ]
  },
  {
   "cell_type": "code",
   "execution_count": null,
   "id": "344508fb",
   "metadata": {},
   "outputs": [],
   "source": [
    "import pyautogui as aut\n",
    "# Faça o código aut.hotkey('win')\n",
    "# Colocando as variaveis e etc...\n",
    "aut.write('chrome', interval=0.1)\n",
    "aut.sleep(1) \n",
    "aut.press('Enter') \n",
    "aut.sleep(0.7) \n",
    "# Faça com que a programação de Enter \n",
    "aut.write('https://classroom.google.com/c/NzAwNTU0Njc2MzY3') \n",
    "aut.sleep(1) \n",
    "aut.press('Enter') \n",
    "aut.moveTo(1225,619) \n",
    "aut.sleep(3) \n",
    "aut.click() \n",
    "aut.moveTo(1514,250) \n",
    "aut.sleep(3) \n",
    "aut.click() \n",
    "aut.moveTo(964,562) \n",
    "aut.sleep(3) \n",
    "aut.click() \n",
    "aut.hotkey('win') \n",
    "aut.write('Explorador de Arquivos', interval=0.1) \n",
    "aut.press('Enter') \n",
    "aut.moveTo(106,311) \n",
    "aut.sleep(3) \n",
    "aut.click() \n",
    "aut.moveTo(485,195) \n",
    "aut.sleep(3) \n",
    "aut.click() \n",
    "aut.hotkey('ctlr' , 'x') \n",
    "aut.moveTo(91,280) \n",
    "aut.sleep(3) \n",
    "aut.click() \n",
    "aut.moveTo(307,172) \n",
    "aut.sleep(3) \n",
    "aut.click() \n",
    "aut.press('Enter') \n",
    "aut.sleep(1) \n",
    "aut.hotkey('ctrl' , 'v')\n",
    "\n"
   ]
  },
  {
   "cell_type": "code",
   "execution_count": null,
   "id": "8e40e0c5",
   "metadata": {},
   "outputs": [],
   "source": [
    "import pyautogui as aut\n",
    "\n",
    "# Começo importando o pyautogui \n",
    "aut.hotkey('win')\n",
    "# E começo  a fazer a magica com a calculadora \n",
    "aut.write('Calculadora', intervalo=0.1)\n",
    "aut.press('Enter')\n",
    "aut.sleep(0.5)\n",
    "aut.moveTo(168,429)\n",
    "aut.sleep(0.5)\n",
    "aut.click()\n",
    "aut.moveTo()\n",
    "aut.sleep(0.5)\n",
    "aut.click()\n",
    "aut.moveTo()\n",
    "aut.sleep(0.5)\n",
    "aut.click()\n",
    "aut.moveTo()\n",
    "aut.sleep(0.5)\n",
    "aut.click()\n",
    "aut.moveTo()\n",
    "aut.sleep(0.5)\n",
    "aut.click()\n",
    "aut.moveTo()\n",
    "aut.sleep(0.5)\n",
    "aut.click()"
   ]
  }
 ],
 "metadata": {
  "kernelspec": {
   "display_name": "Python 3",
   "language": "python",
   "name": "python3"
  },
  "language_info": {
   "codemirror_mode": {
    "name": "ipython",
    "version": 3
   },
   "file_extension": ".py",
   "mimetype": "text/x-python",
   "name": "python",
   "nbconvert_exporter": "python",
   "pygments_lexer": "ipython3",
   "version": "3.13.2"
  }
 },
 "nbformat": 4,
 "nbformat_minor": 5
}
