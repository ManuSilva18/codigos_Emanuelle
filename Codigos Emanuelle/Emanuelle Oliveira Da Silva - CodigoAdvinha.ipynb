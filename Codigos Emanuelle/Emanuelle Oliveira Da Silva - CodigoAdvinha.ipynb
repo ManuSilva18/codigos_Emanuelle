{
 "cells": [
  {
   "cell_type": "markdown",
   "id": "4f7a1d42",
   "metadata": {},
   "source": [
    "### Jogo de advinhação\n",
    "\n",
    "Vamos criar um jogo que advinha o número que o usuário digitou!!\n"
   ]
  },
  {
   "cell_type": "code",
   "execution_count": 3,
   "id": "5fa02260",
   "metadata": {},
   "outputs": [
    {
     "name": "stdout",
     "output_type": "stream",
     "text": [
      "Jogo de advinhação!!! Boa Sorte!!\n",
      "------------------------------------\n",
      "hahahahaha acertei o seu numero me deve 50tão\n",
      "o seu numero é\n",
      "29.0\n"
     ]
    }
   ],
   "source": [
    "print(\"Jogo de advinhação!!! Boa Sorte!!\")\n",
    "print(\"------------------------------------\")\n",
    "## o número deve ser float, pois deve aceitar tanto números inteiros, quanto números quebrados\n",
    "numero_usuario = float(input(\"digite um numero seu trouxa : \"))\n",
    "print(\"hahahahaha acertei o seu numero me deve 50tão\")\n",
    "print(\"o seu numero é\")\n",
    "print(numero_usuario)"
   ]
  },
  {
   "cell_type": "markdown",
   "id": "56cf80bf",
   "metadata": {},
   "source": [
    "### Meu carro do sonho\n",
    "\n",
    "Vamos pedir para o usuário nos informar o nome do carro e o preço do carro dos sonhos deles."
   ]
  },
  {
   "cell_type": "code",
   "execution_count": null,
   "id": "7d9330a4",
   "metadata": {},
   "outputs": [
    {
     "name": "stdout",
     "output_type": "stream",
     "text": [
      "jeep\n",
      "100.0\n",
      "falta 50.0 para comprar\n",
      "o seu carro é jeep\n"
     ]
    }
   ],
   "source": [
    "# 1º Primeiro peça ao usuário o nome do carro dos sonhos:\n",
    "# 2º Peça o preço do carro dos sonhos\n",
    "\n",
    "# 3º Pergunte quanto dinheiro o usuário tem e guarde o valor em uma variável\n",
    "\n",
    "# 4º Calcule quanto falta para o usuário conseguir comprar o carro\n",
    "\n",
    "# 5º Mostre na tela o nome do carro o preço dele e quanto falta para o usuário realizar o sonho dele.\n",
    "\n",
    "\n",
    "nome_carro = input(\"digite o nome do seu carro : \")\n",
    "preço = float(input(\"valor do carro?\"))\n",
    "valor = float(input(\"valor que voce tem?\"))\n",
    "final = preço - valor \n",
    "print(nome_carro)\n",
    "print(preço)\n",
    "print(f\"falta {final} para comprar\")\n",
    "print(f\"o seu carro é {nome_carro}\")\n",
    "\n"
   ]
  },
  {
   "cell_type": "markdown",
   "id": "d28ba737",
   "metadata": {},
   "source": [
    "### Agenda de Celular\n",
    "\n",
    "Peça ao usuário que informe o nome dele e o número do telefone dele\n",
    "\n",
    "Depois mostre ao usuário print() com uma mensagem o nome dele e o número do telefone"
   ]
  },
  {
   "cell_type": "code",
   "execution_count": 1,
   "id": "3037f6bb",
   "metadata": {},
   "outputs": [
    {
     "name": "stdout",
     "output_type": "stream",
     "text": [
      "emanuelle\n",
      "993154590\n",
      "nome:emanuelle. telefone:993154590.\n"
     ]
    }
   ],
   "source": [
    "# preciso pedir o nome do usuário\n",
    "\n",
    "#preciso pedir o telefone\n",
    "\n",
    "# mostrar as informações\n",
    "\n",
    "nome = input(\"qual é seu nome?\")\n",
    "print(nome)\n",
    "telefone = input(\"qual é seu telefone?\")\n",
    "print(telefone)\n",
    "print(f\"nome:{nome}. telefone:{telefone}.\")"
   ]
  },
  {
   "cell_type": "markdown",
   "id": "3312349f",
   "metadata": {},
   "source": [
    "### Adivinha a idade\n",
    "\n",
    "preciso do ano do nascimento e o ano atual\n",
    "\n",
    "formula = ano_atual - ano_nascimento\n",
    "\n",
    "tipo da variavel int"
   ]
  },
  {
   "cell_type": "code",
   "execution_count": 6,
   "id": "4d8cbcc1",
   "metadata": {},
   "outputs": [
    {
     "name": "stdout",
     "output_type": "stream",
     "text": [
      "2009\n",
      "2025\n",
      "voce tem 16 anos.\n"
     ]
    }
   ],
   "source": [
    "nascimento = int(input(\"ano de nascimento\"))\n",
    "print(nascimento)\n",
    "ano = int(input(\"ano atual?\"))\n",
    "print(ano)\n",
    "formula = ano - nascimento \n",
    "print(f\"voce tem {formula} anos.\")"
   ]
  }
 ],
 "metadata": {
  "kernelspec": {
   "display_name": "Python 3",
   "language": "python",
   "name": "python3"
  },
  "language_info": {
   "codemirror_mode": {
    "name": "ipython",
    "version": 3
   },
   "file_extension": ".py",
   "mimetype": "text/x-python",
   "name": "python",
   "nbconvert_exporter": "python",
   "pygments_lexer": "ipython3",
   "version": "3.13.2"
  }
 },
 "nbformat": 4,
 "nbformat_minor": 5
}
